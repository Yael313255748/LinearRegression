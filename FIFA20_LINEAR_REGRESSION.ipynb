{
  "nbformat": 4,
  "nbformat_minor": 0,
  "metadata": {
    "colab": {
      "name": "FIFA20_LINEAR_REGRESSION.ipynb",
      "provenance": [],
      "collapsed_sections": [],
      "mount_file_id": "1Z03gom0ZPLw8BTpauBXYF8tUIyMuHflb",
      "authorship_tag": "ABX9TyPUMcW/itqK04bJUKK0g8Oo",
      "include_colab_link": true
    },
    "kernelspec": {
      "name": "python3",
      "display_name": "Python 3"
    },
    "language_info": {
      "name": "python"
    }
  },
  "cells": [
    {
      "cell_type": "markdown",
      "metadata": {
        "id": "view-in-github",
        "colab_type": "text"
      },
      "source": [
        "<a href=\"https://colab.research.google.com/github/Yael313255748/LinearRegression/blob/main/FIFA20_LINEAR_REGRESSION.ipynb\" target=\"_parent\"><img src=\"https://colab.research.google.com/assets/colab-badge.svg\" alt=\"Open In Colab\"/></a>"
      ]
    },
    {
      "cell_type": "code",
      "metadata": {
        "id": "8QCy3wKsAdwU"
      },
      "source": [
        "import numpy as np\n",
        "import pandas as pd\n",
        "from tensorflow.keras import layers,losses,optimizers,Sequential,constraints\n",
        "from sklearn.metrics import r2_score , mean_squared_error\n",
        "from sklearn.model_selection import train_test_split\n",
        "from sklearn.preprocessing import MinMaxScaler\n",
        "from sklearn.decomposition import PCA\n",
        "from sklearn.cluster import KMeans\n",
        "import matplotlib.pyplot as plt\n",
        "%matplotlib inline"
      ],
      "execution_count": null,
      "outputs": []
    },
    {
      "cell_type": "code",
      "metadata": {
        "id": "gSuU1a8vK-vT"
      },
      "source": [
        "df=pd.read_csv('/content/drive/MyDrive/datasets/FIFA/players_20.csv')\n",
        "df.head()"
      ],
      "execution_count": null,
      "outputs": []
    },
    {
      "cell_type": "code",
      "metadata": {
        "id": "mRvlDZyOLClt"
      },
      "source": [
        "df.info()"
      ],
      "execution_count": null,
      "outputs": []
    },
    {
      "cell_type": "code",
      "metadata": {
        "id": "yz3J2JtyLTbl"
      },
      "source": [
        "df[df.columns[df.dtypes==int]].info()"
      ],
      "execution_count": null,
      "outputs": []
    },
    {
      "cell_type": "code",
      "metadata": {
        "id": "cGzDveeLLXhd"
      },
      "source": [
        "column=['age','height_cm','weight_kg'\t,'sofifa_id','potential','value_eur','wage_eur','international_reputation','weak_foot','skill_moves']\n",
        "df2=df[df.columns[(df.dtypes!=object) & (df.dtypes!=float)]].drop(column,axis=1)\n",
        "df2.head()"
      ],
      "execution_count": null,
      "outputs": []
    },
    {
      "cell_type": "code",
      "metadata": {
        "id": "FmIppA_pML6l"
      },
      "source": [
        "df2.isnull().sum()"
      ],
      "execution_count": null,
      "outputs": []
    },
    {
      "cell_type": "code",
      "metadata": {
        "id": "Idp3e-0fMVIX"
      },
      "source": [
        "X=np.array(df2[df2.columns[df2.columns!='overall']],dtype=float)\n",
        "y=np.array(df2[['overall']],dtype=float)\n",
        "print(X[:5,:5])\n",
        "print(y[:5])"
      ],
      "execution_count": null,
      "outputs": []
    },
    {
      "cell_type": "code",
      "metadata": {
        "id": "-v8oRHYdMa_c"
      },
      "source": [
        "scaler=MinMaxScaler()\n",
        "X=scaler.fit_transform(X)\n",
        "print(X[:5,:5])"
      ],
      "execution_count": null,
      "outputs": []
    },
    {
      "cell_type": "code",
      "metadata": {
        "id": "qlu4AA_QMeK8"
      },
      "source": [
        "X_train, X_test, y_train, y_test = train_test_split(X,y,train_size=0.8,random_state=100)"
      ],
      "execution_count": null,
      "outputs": []
    },
    {
      "cell_type": "code",
      "metadata": {
        "id": "aqaHfJkmMj3M"
      },
      "source": [
        "print(X_train.shape)\n",
        "print(X_test.shape)"
      ],
      "execution_count": null,
      "outputs": []
    },
    {
      "cell_type": "code",
      "metadata": {
        "id": "g0JR2Id3Mm-M"
      },
      "source": [
        "loss=losses.MeanSquaredError()\n",
        "optimizer=optimizers.SGD(learning_rate=0.02)\n",
        "epochs=40\n",
        "batch_size=32\n",
        "def create_lm():\n",
        "  lm=Sequential()\n",
        "  lm.add(layers.Dense(1,activation='linear',input_shape=(X.shape[1],),kernel_constraint=constraints.NonNeg(),bias_constraint=constraints.NonNeg()))\n",
        "  lm.compile(optimizer,loss)\n",
        "  return lm"
      ],
      "execution_count": null,
      "outputs": []
    },
    {
      "cell_type": "code",
      "metadata": {
        "id": "j4YxK0LMMxCs"
      },
      "source": [
        "def compute_coefs_metrics_pred(X,y,names_X):\n",
        "  X_train, X_test, y_train, y_test = train_test_split(X,y,train_size=0.8,random_state=100)\n",
        "  lm=create_lm()\n",
        "  lm.fit(X_train,y_train,epochs=epochs,batch_size=batch_size)\n",
        "\n",
        "  y_train_pred=lm.predict(X_train)\n",
        "  y_test_pred=lm.predict(X_test)\n",
        "  predictions=lm.predict(X)\n",
        "\n",
        "  train_mse=mean_squared_error(y_train,y_train_pred)\n",
        "  test_mse=mean_squared_error(y_test,y_test_pred)\n",
        "\n",
        "  train_r2=r2_score(y_train,y_train_pred)\n",
        "  test_r2=r2_score(y_test,y_test_pred)\n",
        "  met_str='Mean Squared Error\\n\\nTrain: {} Test: {}\\n\\nR2 Score\\n\\nTrain: {} Test: {}'.format(round(train_mse,3),round(test_mse,3),round(train_r2,3),round(test_r2,3))\n",
        "  met={'MSE':{'train':train_mse,'test':test_mse},'R2':{'train':train_r2,'test':test_r2},'STR':met_str}\n",
        "  weights=lm.get_weights()\n",
        "  coefs=pd.DataFrame(np.concatenate((weights[1].reshape(1,1),weights[0].reshape(1,-1)),axis=1).T,index=names_X,columns=['Coefs'])\n",
        "\n",
        "  return lm, met, coefs, predictions"
      ],
      "execution_count": null,
      "outputs": []
    },
    {
      "cell_type": "code",
      "metadata": {
        "id": "bgq3ho7ANRCC"
      },
      "source": [
        "var_names=list(df2.columns[df2.columns!='overall'])\n",
        "var_names.insert(0,'Intercept')"
      ],
      "execution_count": null,
      "outputs": []
    },
    {
      "cell_type": "code",
      "metadata": {
        "id": "vD5f9mpoM_cs"
      },
      "source": [
        "lm,met,coefs,predictions=compute_coefs_metrics_pred(X,y,var_names)"
      ],
      "execution_count": null,
      "outputs": []
    },
    {
      "cell_type": "code",
      "metadata": {
        "id": "sVShRYe8NK9N"
      },
      "source": [
        "print(met['STR'])"
      ],
      "execution_count": null,
      "outputs": []
    },
    {
      "cell_type": "code",
      "metadata": {
        "id": "zH_A6M6VOYps"
      },
      "source": [
        "coefs"
      ],
      "execution_count": null,
      "outputs": []
    },
    {
      "cell_type": "code",
      "metadata": {
        "id": "LtaJGmyUPEZm"
      },
      "source": [
        "df['overall_prediction']=np.round(predictions)\n",
        "df[['short_name','overall','overall_prediction']].head(10)"
      ],
      "execution_count": null,
      "outputs": []
    },
    {
      "cell_type": "code",
      "metadata": {
        "id": "XDKbqxWmPwks"
      },
      "source": [
        "df.query('nationality==\"Mexico\"')[['short_name','overall','overall_prediction']].head(10)"
      ],
      "execution_count": null,
      "outputs": []
    },
    {
      "cell_type": "code",
      "metadata": {
        "id": "UUzkXNH_QRCb"
      },
      "source": [
        "pca=PCA()\n",
        "pca.fit(X)\n",
        "CPX=pca.transform(X)"
      ],
      "execution_count": null,
      "outputs": []
    },
    {
      "cell_type": "code",
      "metadata": {
        "id": "eWBB8B1gQyAb"
      },
      "source": [
        "plt.figure(figsize=(10,8))\n",
        "plt.scatter(CPX[:,0],CPX[:,1])\n",
        "plt.xlabel('Principal Component 1')\n",
        "plt.ylabel('Principal Component 2')\n",
        "plt.plot();"
      ],
      "execution_count": null,
      "outputs": []
    },
    {
      "cell_type": "code",
      "metadata": {
        "id": "vw6RRf2iQ0yq"
      },
      "source": [
        "kmean=KMeans(n_clusters=4,random_state=1)\n",
        "kmean.fit(X)\n",
        "clusters=kmean.predict(X)"
      ],
      "execution_count": null,
      "outputs": []
    },
    {
      "cell_type": "code",
      "metadata": {
        "id": "rSMhuFH3RpbS"
      },
      "source": [
        "plt.figure(figsize=(10,8))\n",
        "plt.scatter(CPX[:,0],CPX[:,1],c=clusters)\n",
        "plt.xlabel('Principal Component 1')\n",
        "plt.ylabel('Principal Component 2')\n",
        "plt.plot();"
      ],
      "execution_count": null,
      "outputs": []
    },
    {
      "cell_type": "code",
      "metadata": {
        "id": "k68dTmz2RwK4"
      },
      "source": [
        "clusters=clusters.reshape(-1,1)\n",
        "df['clusters']=clusters\n",
        "df[['short_name','clusters']].head(20)"
      ],
      "execution_count": null,
      "outputs": []
    },
    {
      "cell_type": "code",
      "metadata": {
        "id": "iNvVzAwcSo5i"
      },
      "source": [
        "Clust=np.unique(clusters)\n",
        "def fit_models(C):\n",
        "  models=[]\n",
        "  met=[]\n",
        "  coefs=[]\n",
        "  df_=[]\n",
        "  for i in C:\n",
        "    data=df2[df['clusters']==i]\n",
        "\n",
        "    X=np.array(data.drop('overall',axis=1),dtype=float)\n",
        "\n",
        "    y=np.array(data[['overall']],dtype=float)\n",
        "\n",
        "    X=scaler.fit_transform(X)\n",
        "\n",
        "    model , metric, coef, prediction=compute_coefs_metrics_pred(X,y,var_names)\n",
        "    print('---------------------------------------------------------------')\n",
        "    models.append(model)\n",
        "    met.append(metric)\n",
        "    coefs.append(coef)\n",
        "    data=df[df['clusters']==i][['short_name','nationality','overall']]\n",
        "\n",
        "    data['overall_predict']=np.round(prediction)\n",
        "    df_.append(data)\n",
        "  return models,met,df_,coefs"
      ],
      "execution_count": null,
      "outputs": []
    },
    {
      "cell_type": "code",
      "metadata": {
        "id": "cs8OOIrkW9Iq"
      },
      "source": [
        "models,met,data_frames,coefs=fit_models(Clust)"
      ],
      "execution_count": null,
      "outputs": []
    },
    {
      "cell_type": "code",
      "metadata": {
        "id": "egDkUF1gaGF4"
      },
      "source": [
        "j=0\n",
        "for i in met:\n",
        "  print('Cluster {}'.format(j))\n",
        "  print(i['STR'],'\\n-------------------------------------------')\n",
        "  j+=1"
      ],
      "execution_count": null,
      "outputs": []
    },
    {
      "cell_type": "code",
      "metadata": {
        "id": "66X4oDNYaNvJ"
      },
      "source": [
        "data_frames[0].head(10)"
      ],
      "execution_count": null,
      "outputs": []
    },
    {
      "cell_type": "code",
      "metadata": {
        "id": "aROtgo3mbNLR"
      },
      "source": [
        "data_frames[1].head(10)"
      ],
      "execution_count": null,
      "outputs": []
    },
    {
      "cell_type": "code",
      "metadata": {
        "id": "HwIPu9Tpbr64"
      },
      "source": [
        "data_frames[2].head(10)"
      ],
      "execution_count": null,
      "outputs": []
    },
    {
      "cell_type": "code",
      "metadata": {
        "id": "B-3qDrZmbxeo"
      },
      "source": [
        "data_frames[3].head(10)"
      ],
      "execution_count": null,
      "outputs": []
    },
    {
      "cell_type": "code",
      "metadata": {
        "id": "X-1-ijACb21Q"
      },
      "source": [
        "coefs[0]"
      ],
      "execution_count": null,
      "outputs": []
    },
    {
      "cell_type": "code",
      "metadata": {
        "id": "6pcjvO_TcE-x"
      },
      "source": [
        "data_frames[3][data_frames[3]['nationality']=='Mexico'].head(10)"
      ],
      "execution_count": null,
      "outputs": []
    },
    {
      "cell_type": "code",
      "metadata": {
        "id": "KuHsqawzddap"
      },
      "source": [
        "data_frames[0][data_frames[0]['nationality']=='Mexico'].head(10)"
      ],
      "execution_count": null,
      "outputs": []
    },
    {
      "cell_type": "code",
      "metadata": {
        "id": "WZ4PWo-HdnJF"
      },
      "source": [
        "data_frames[2][data_frames[2]['nationality']=='Mexico'].head(10)"
      ],
      "execution_count": null,
      "outputs": []
    },
    {
      "cell_type": "code",
      "metadata": {
        "colab": {
          "base_uri": "https://localhost:8080/",
          "height": 359
        },
        "id": "XfpxC5crd8JI",
        "outputId": "8e74a1d6-3c75-43bc-92cb-27ef2df17b12"
      },
      "source": [
        "data_frames[1][data_frames[1]['nationality']=='Mexico'].head(10)"
      ],
      "execution_count": null,
      "outputs": [
        {
          "output_type": "execute_result",
          "data": {
            "text/html": [
              "<div>\n",
              "<style scoped>\n",
              "    .dataframe tbody tr th:only-of-type {\n",
              "        vertical-align: middle;\n",
              "    }\n",
              "\n",
              "    .dataframe tbody tr th {\n",
              "        vertical-align: top;\n",
              "    }\n",
              "\n",
              "    .dataframe thead th {\n",
              "        text-align: right;\n",
              "    }\n",
              "</style>\n",
              "<table border=\"1\" class=\"dataframe\">\n",
              "  <thead>\n",
              "    <tr style=\"text-align: right;\">\n",
              "      <th></th>\n",
              "      <th>short_name</th>\n",
              "      <th>nationality</th>\n",
              "      <th>overall</th>\n",
              "      <th>overall_predict</th>\n",
              "    </tr>\n",
              "  </thead>\n",
              "  <tbody>\n",
              "    <tr>\n",
              "      <th>1067</th>\n",
              "      <td>C. Salcedo</td>\n",
              "      <td>Mexico</td>\n",
              "      <td>77</td>\n",
              "      <td>76.0</td>\n",
              "    </tr>\n",
              "    <tr>\n",
              "      <th>1356</th>\n",
              "      <td>N. Araújo</td>\n",
              "      <td>Mexico</td>\n",
              "      <td>76</td>\n",
              "      <td>77.0</td>\n",
              "    </tr>\n",
              "    <tr>\n",
              "      <th>2698</th>\n",
              "      <td>C. Montes</td>\n",
              "      <td>Mexico</td>\n",
              "      <td>73</td>\n",
              "      <td>73.0</td>\n",
              "    </tr>\n",
              "    <tr>\n",
              "      <th>3797</th>\n",
              "      <td>J. Pereira</td>\n",
              "      <td>Mexico</td>\n",
              "      <td>72</td>\n",
              "      <td>72.0</td>\n",
              "    </tr>\n",
              "    <tr>\n",
              "      <th>4173</th>\n",
              "      <td>A. Briseño</td>\n",
              "      <td>Mexico</td>\n",
              "      <td>71</td>\n",
              "      <td>71.0</td>\n",
              "    </tr>\n",
              "    <tr>\n",
              "      <th>4387</th>\n",
              "      <td>L. Quintana</td>\n",
              "      <td>Mexico</td>\n",
              "      <td>71</td>\n",
              "      <td>71.0</td>\n",
              "    </tr>\n",
              "    <tr>\n",
              "      <th>4476</th>\n",
              "      <td>J. Domínguez</td>\n",
              "      <td>Mexico</td>\n",
              "      <td>71</td>\n",
              "      <td>71.0</td>\n",
              "    </tr>\n",
              "    <tr>\n",
              "      <th>5173</th>\n",
              "      <td>H. Mier</td>\n",
              "      <td>Mexico</td>\n",
              "      <td>70</td>\n",
              "      <td>71.0</td>\n",
              "    </tr>\n",
              "    <tr>\n",
              "      <th>5646</th>\n",
              "      <td>E. Tercero</td>\n",
              "      <td>Mexico</td>\n",
              "      <td>70</td>\n",
              "      <td>70.0</td>\n",
              "    </tr>\n",
              "    <tr>\n",
              "      <th>6304</th>\n",
              "      <td>I. González</td>\n",
              "      <td>Mexico</td>\n",
              "      <td>69</td>\n",
              "      <td>68.0</td>\n",
              "    </tr>\n",
              "  </tbody>\n",
              "</table>\n",
              "</div>"
            ],
            "text/plain": [
              "        short_name nationality  overall  overall_predict\n",
              "1067    C. Salcedo      Mexico       77             76.0\n",
              "1356     N. Araújo      Mexico       76             77.0\n",
              "2698     C. Montes      Mexico       73             73.0\n",
              "3797    J. Pereira      Mexico       72             72.0\n",
              "4173    A. Briseño      Mexico       71             71.0\n",
              "4387   L. Quintana      Mexico       71             71.0\n",
              "4476  J. Domínguez      Mexico       71             71.0\n",
              "5173       H. Mier      Mexico       70             71.0\n",
              "5646    E. Tercero      Mexico       70             70.0\n",
              "6304   I. González      Mexico       69             68.0"
            ]
          },
          "metadata": {},
          "execution_count": 37
        }
      ]
    },
    {
      "cell_type": "code",
      "metadata": {
        "id": "ZU7VqTsUeQhI"
      },
      "source": [
        ""
      ],
      "execution_count": null,
      "outputs": []
    }
  ]
}