{
  "nbformat": 4,
  "nbformat_minor": 0,
  "metadata": {
    "colab": {
      "name": "Polynomial_regression",
      "provenance": [],
      "authorship_tag": "ABX9TyPiWmQ9QQZgI0TESWI7ou0A",
      "include_colab_link": true
    },
    "kernelspec": {
      "name": "python3",
      "display_name": "Python 3"
    },
    "language_info": {
      "name": "python"
    }
  },
  "cells": [
    {
      "cell_type": "markdown",
      "metadata": {
        "id": "view-in-github",
        "colab_type": "text"
      },
      "source": [
        "<a href=\"https://colab.research.google.com/github/Yael313255748/LinearRegression/blob/main/Polynomial_regression.ipynb\" target=\"_parent\"><img src=\"https://colab.research.google.com/assets/colab-badge.svg\" alt=\"Open In Colab\"/></a>"
      ]
    },
    {
      "cell_type": "code",
      "execution_count": 1,
      "metadata": {
        "id": "sm3jaekDvlPZ",
        "colab": {
          "base_uri": "https://localhost:8080/"
        },
        "outputId": "08bbb777-b890-408c-d3a9-3fec9dd6de13"
      },
      "outputs": [
        {
          "output_type": "stream",
          "name": "stderr",
          "text": [
            "/usr/local/lib/python3.7/dist-packages/statsmodels/tools/_testing.py:19: FutureWarning: pandas.util.testing is deprecated. Use the functions in the public API at pandas.testing instead.\n",
            "  import pandas.util.testing as tm\n"
          ]
        }
      ],
      "source": [
        "import numpy as np\n",
        "from statsmodels.regression.linear_model import OLS\n",
        "import matplotlib.pyplot as plt\n",
        "from sklearn.preprocessing import PolynomialFeatures\n",
        "%matplotlib inline"
      ]
    },
    {
      "cell_type": "markdown",
      "source": [
        "**Definición de variables**"
      ],
      "metadata": {
        "id": "f52qooaezSME"
      }
    },
    {
      "cell_type": "code",
      "source": [
        "#Variable independiente\n",
        "x=np.arange(-1,1,0.001).reshape(-1,1)\n",
        "poly=PolynomialFeatures(degree=3)\n",
        "X=poly.fit_transform(x)\n",
        "k=X.shape[1]\n",
        "#Coeficientes\n",
        "coef=np.random.normal(size=(k,1))\n",
        "#Variable dependiente\n",
        "y=X.dot(coef)+np.random.normal(scale=0.1,size=(len(x),1))"
      ],
      "metadata": {
        "id": "H53tldtmzQGc"
      },
      "execution_count": 50,
      "outputs": []
    },
    {
      "cell_type": "markdown",
      "source": [
        " **Gráfico de Variables**"
      ],
      "metadata": {
        "id": "X95nt9u51gfK"
      }
    },
    {
      "cell_type": "code",
      "source": [
        "plt.figure(figsize=(10,5))\n",
        "plt.scatter(x,y,c='blue')\n",
        "plt.xlabel('$x$')\n",
        "plt.ylabel('$y$')\n",
        "plt.show()"
      ],
      "metadata": {
        "colab": {
          "base_uri": "https://localhost:8080/",
          "height": 334
        },
        "id": "mJtp5EKo0L3K",
        "outputId": "568a4a69-3b19-41c3-b4d0-9e75f82eb9ea"
      },
      "execution_count": 51,
      "outputs": [
        {
          "output_type": "display_data",
          "data": {
            "text/plain": [
              "<Figure size 720x360 with 1 Axes>"
            ],
            "image/png": "[encoded data removed]"
          },
          "metadata": {
            "needs_background": "light"
          }
        }
      ]
    },
    {
      "cell_type": "markdown",
      "source": [
        "**Definición de los conjuntos de entrenamiento y prueba**"
      ],
      "metadata": {
        "id": "RFvWl-jd0Com"
      }
    },
    {
      "cell_type": "code",
      "source": [
        "s=round(X.shape[0]*0.8)\n",
        "X_train=X[:s,:]\n",
        "X_test=X[s:,:]\n",
        "y_train=y[:s]\n",
        "y_test=y[s:]"
      ],
      "metadata": {
        "id": "kpbHoZgC2Hs8"
      },
      "execution_count": 52,
      "outputs": []
    },
    {
      "cell_type": "markdown",
      "source": [
        "**Ajuste del Modelo**"
      ],
      "metadata": {
        "id": "bexYGUjB0uVR"
      }
    },
    {
      "cell_type": "code",
      "source": [
        "lm=OLS(y_train,X_train).fit()"
      ],
      "metadata": {
        "id": "zAMgm2Zh4fw6"
      },
      "execution_count": 53,
      "outputs": []
    },
    {
      "cell_type": "code",
      "source": [
        "lm.summary2()"
      ],
      "metadata": {
        "colab": {
          "base_uri": "https://localhost:8080/",
          "height": 365
        },
        "id": "3Vlw2dkm4kkF",
        "outputId": "22d3b47a-0f8a-4596-9856-7b8b17e24a39"
      },
      "execution_count": 54,
      "outputs": [
        {
          "output_type": "execute_result",
          "data": {
            "text/plain": [
              "<class 'statsmodels.iolib.summary2.Summary'>\n",
              "\"\"\"\n",
              "                  Results: Ordinary least squares\n",
              "===================================================================\n",
              "Model:              OLS              Adj. R-squared:     0.921     \n",
              "Dependent Variable: y                AIC:                -2866.4938\n",
              "Date:               2022-04-15 20:32 BIC:                -2844.9828\n",
              "No. Observations:   1600             Log-Likelihood:     1437.2    \n",
              "Df Model:           3                F-statistic:        6240.     \n",
              "Df Residuals:       1596             Prob (F-statistic): 0.00      \n",
              "R-squared:          0.921            Scale:              0.0097359 \n",
              "---------------------------------------------------------------------\n",
              "            Coef.    Std.Err.      t       P>|t|     [0.025    0.975]\n",
              "---------------------------------------------------------------------\n",
              "const      -0.0533     0.0041   -12.9032   0.0000   -0.0614   -0.0452\n",
              "x1          0.0730     0.0112     6.5028   0.0000    0.0509    0.0950\n",
              "x2          0.3632     0.0231    15.7075   0.0000    0.3178    0.4085\n",
              "x3          1.4457     0.0319    45.3669   0.0000    1.3832    1.5082\n",
              "-------------------------------------------------------------------\n",
              "Omnibus:                0.913        Durbin-Watson:           2.127\n",
              "Prob(Omnibus):          0.633        Jarque-Bera (JB):        0.956\n",
              "Skew:                   0.004        Prob(JB):                0.620\n",
              "Kurtosis:               2.880        Condition No.:           17   \n",
              "===================================================================\n",
              "\n",
              "\"\"\""
            ],
            "text/html": [
              "<table class=\"simpletable\">\n",
              "<tr>\n",
              "        <td>Model:</td>               <td>OLS</td>         <td>Adj. R-squared:</td>      <td>0.921</td>  \n",
              "</tr>\n",
              "<tr>\n",
              "  <td>Dependent Variable:</td>         <td>y</td>               <td>AIC:</td>         <td>-2866.4938</td>\n",
              "</tr>\n",
              "<tr>\n",
              "         <td>Date:</td>        <td>2022-04-15 20:32</td>        <td>BIC:</td>         <td>-2844.9828</td>\n",
              "</tr>\n",
              "<tr>\n",
              "   <td>No. Observations:</td>        <td>1600</td>         <td>Log-Likelihood:</td>     <td>1437.2</td>  \n",
              "</tr>\n",
              "<tr>\n",
              "       <td>Df Model:</td>              <td>3</td>           <td>F-statistic:</td>        <td>6240.</td>  \n",
              "</tr>\n",
              "<tr>\n",
              "     <td>Df Residuals:</td>          <td>1596</td>       <td>Prob (F-statistic):</td>    <td>0.00</td>   \n",
              "</tr>\n",
              "<tr>\n",
              "      <td>R-squared:</td>            <td>0.921</td>            <td>Scale:</td>         <td>0.0097359</td>\n",
              "</tr>\n",
              "</table>\n",
              "<table class=\"simpletable\">\n",
              "<tr>\n",
              "    <td></td>     <th>Coef.</th>  <th>Std.Err.</th>     <th>t</th>     <th>P>|t|</th> <th>[0.025</th>  <th>0.975]</th> \n",
              "</tr>\n",
              "<tr>\n",
              "  <th>const</th> <td>-0.0533</td>  <td>0.0041</td>  <td>-12.9032</td> <td>0.0000</td> <td>-0.0614</td> <td>-0.0452</td>\n",
              "</tr>\n",
              "<tr>\n",
              "  <th>x1</th>    <td>0.0730</td>   <td>0.0112</td>   <td>6.5028</td>  <td>0.0000</td> <td>0.0509</td>  <td>0.0950</td> \n",
              "</tr>\n",
              "<tr>\n",
              "  <th>x2</th>    <td>0.3632</td>   <td>0.0231</td>   <td>15.7075</td> <td>0.0000</td> <td>0.3178</td>  <td>0.4085</td> \n",
              "</tr>\n",
              "<tr>\n",
              "  <th>x3</th>    <td>1.4457</td>   <td>0.0319</td>   <td>45.3669</td> <td>0.0000</td> <td>1.3832</td>  <td>1.5082</td> \n",
              "</tr>\n",
              "</table>\n",
              "<table class=\"simpletable\">\n",
              "<tr>\n",
              "     <td>Omnibus:</td>    <td>0.913</td>  <td>Durbin-Watson:</td>   <td>2.127</td>\n",
              "</tr>\n",
              "<tr>\n",
              "  <td>Prob(Omnibus):</td> <td>0.633</td> <td>Jarque-Bera (JB):</td> <td>0.956</td>\n",
              "</tr>\n",
              "<tr>\n",
              "       <td>Skew:</td>     <td>0.004</td>     <td>Prob(JB):</td>     <td>0.620</td>\n",
              "</tr>\n",
              "<tr>\n",
              "     <td>Kurtosis:</td>   <td>2.880</td>  <td>Condition No.:</td>    <td>17</td>  \n",
              "</tr>\n",
              "</table>"
            ]
          },
          "metadata": {},
          "execution_count": 54
        }
      ]
    },
    {
      "cell_type": "markdown",
      "source": [
        "**Predicción**"
      ],
      "metadata": {
        "id": "Shb784pR762n"
      }
    },
    {
      "cell_type": "code",
      "source": [
        "ypred=lm.predict(X)"
      ],
      "metadata": {
        "id": "zve8Sbvy5FWB"
      },
      "execution_count": 57,
      "outputs": []
    },
    {
      "cell_type": "code",
      "source": [
        "plt.scatter(X[:,1],y,c='red',label='real')\n",
        "plt.plot(X[:,1],ypred,c='blue',label='Predicción')\n",
        "plt.legend()\n",
        "plt.show()"
      ],
      "metadata": {
        "colab": {
          "base_uri": "https://localhost:8080/",
          "height": 265
        },
        "id": "VXP-JbW03AtX",
        "outputId": "f5ffd52e-2941-43d1-c4a7-17bdff529613"
      },
      "execution_count": 59,
      "outputs": [
        {
          "output_type": "display_data",
          "data": {
            "text/plain": [
              "<Figure size 432x288 with 1 Axes>"
            ],
            "image/png": "[encoded data removed]"
          },
          "metadata": {
            "needs_background": "light"
          }
        }
      ]
    },
    {
      "cell_type": "code",
      "source": [
        ""
      ],
      "metadata": {
        "id": "gooWQcPi30rq"
      },
      "execution_count": null,
      "outputs": []
    }
  ]
}